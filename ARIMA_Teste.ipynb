{
 "cells": [
  {
   "cell_type": "code",
   "execution_count": 16,
   "metadata": {},
   "outputs": [],
   "source": [
    "import pandas as pd\n",
    "from pandas import DataFrame\n",
    "from pandas.plotting import autocorrelation_plot\n",
    "import pandas.util.testing as tm\n",
    "import matplotlib.pyplot as plt\n",
    "from statsmodels.tsa.arima_model import ARIMA\n",
    "import statsmodels.api as sm\n",
    "from statsmodels.graphics.tsaplots import plot_acf\n",
    "from statsmodels.graphics.tsaplots import plot_pacf\n",
    "from pmdarima.arima import auto_arima\n",
    "from numpy import sqrt\n",
    "from sklearn.metrics import mean_squared_error, mean_absolute_percentage_error\n",
    "import warnings\n",
    "warnings.filterwarnings('ignore')"
   ]
  },
  {
   "cell_type": "code",
   "execution_count": 17,
   "metadata": {},
   "outputs": [],
   "source": [
    "# Leitura do CSV e setando como Time\n",
    "df = pd.read_csv('FT03_18_19.csv',delimiter=';', parse_dates=True)\n",
    "df['Time'] = pd.to_datetime(df.Time)\n",
    "df = df[df['Time'].notna()]\n",
    "df = df.set_index('Time')\n",
    "df = df.resample(\"D\").last()"
   ]
  },
  {
   "cell_type": "code",
   "execution_count": 18,
   "metadata": {},
   "outputs": [],
   "source": [
    "# split into train and test sets\n",
    "#Separar dados de treino e teste\n",
    "dias = 31\n",
    "train = df.iloc[:-dias,0:1].copy()\n",
    "test = df.iloc[-dias:,0:1].copy()\n",
    "\n",
    "history = [train.iloc[i,0] for i in range(len(train))]\n",
    "predictions = []"
   ]
  },
  {
   "cell_type": "code",
   "execution_count": 19,
   "metadata": {},
   "outputs": [
    {
     "name": "stdout",
     "output_type": "stream",
     "text": [
      "Performing stepwise search to minimize aic\n",
      " ARIMA(2,1,2)(1,0,1)[7] intercept   : AIC=4947.286, Time=3.60 sec\n",
      " ARIMA(0,1,0)(0,0,0)[7] intercept   : AIC=5349.742, Time=0.04 sec\n",
      " ARIMA(1,1,0)(1,0,0)[7] intercept   : AIC=5129.913, Time=0.43 sec\n",
      " ARIMA(0,1,1)(0,0,1)[7] intercept   : AIC=4969.246, Time=0.83 sec\n",
      " ARIMA(0,1,0)(0,0,0)[7]             : AIC=5347.753, Time=0.03 sec\n",
      " ARIMA(2,1,2)(0,0,1)[7] intercept   : AIC=4956.883, Time=1.97 sec\n",
      " ARIMA(2,1,2)(1,0,0)[7] intercept   : AIC=4956.864, Time=2.19 sec\n",
      " ARIMA(2,1,2)(2,0,1)[7] intercept   : AIC=inf, Time=8.10 sec\n",
      " ARIMA(2,1,2)(1,0,2)[7] intercept   : AIC=4943.636, Time=8.13 sec\n",
      " ARIMA(2,1,2)(0,0,2)[7] intercept   : AIC=4958.833, Time=3.00 sec\n",
      " ARIMA(2,1,2)(2,0,2)[7] intercept   : AIC=inf, Time=6.86 sec\n",
      " ARIMA(1,1,2)(1,0,2)[7] intercept   : AIC=inf, Time=5.28 sec\n",
      " ARIMA(2,1,1)(1,0,2)[7] intercept   : AIC=4943.594, Time=5.55 sec\n",
      " ARIMA(2,1,1)(0,0,2)[7] intercept   : AIC=4956.973, Time=1.86 sec\n",
      " ARIMA(2,1,1)(1,0,1)[7] intercept   : AIC=inf, Time=2.89 sec\n",
      " ARIMA(2,1,1)(2,0,2)[7] intercept   : AIC=inf, Time=5.75 sec\n",
      " ARIMA(2,1,1)(0,0,1)[7] intercept   : AIC=4955.029, Time=1.39 sec\n",
      " ARIMA(2,1,1)(2,0,1)[7] intercept   : AIC=inf, Time=5.25 sec\n",
      " ARIMA(1,1,1)(1,0,2)[7] intercept   : AIC=inf, Time=5.21 sec\n",
      " ARIMA(2,1,0)(1,0,2)[7] intercept   : AIC=inf, Time=3.19 sec\n",
      " ARIMA(3,1,1)(1,0,2)[7] intercept   : AIC=4944.783, Time=5.93 sec\n",
      " ARIMA(1,1,0)(1,0,2)[7] intercept   : AIC=inf, Time=2.35 sec\n",
      " ARIMA(3,1,0)(1,0,2)[7] intercept   : AIC=inf, Time=4.50 sec\n",
      " ARIMA(3,1,2)(1,0,2)[7] intercept   : AIC=inf, Time=11.61 sec\n",
      " ARIMA(2,1,1)(1,0,2)[7]             : AIC=inf, Time=3.86 sec\n",
      "\n",
      "Best model:  ARIMA(2,1,1)(1,0,2)[7] intercept\n",
      "Total fit time: 99.880 seconds\n"
     ]
    }
   ],
   "source": [
    "ar = auto_arima(train, m = 7, seasonal=True, trace=True).summary()"
   ]
  }
 ],
 "metadata": {
  "interpreter": {
   "hash": "b61fb7a18a5af00d21ec0ee5ada5a1fb419af827d7358e3ec185814aeda8258a"
  },
  "kernelspec": {
   "display_name": "Python 3.8.2 64-bit ('venv': venv)",
   "name": "python3"
  },
  "language_info": {
   "codemirror_mode": {
    "name": "ipython",
    "version": 3
   },
   "file_extension": ".py",
   "mimetype": "text/x-python",
   "name": "python",
   "nbconvert_exporter": "python",
   "pygments_lexer": "ipython3",
   "version": "3.8.2"
  },
  "orig_nbformat": 4
 },
 "nbformat": 4,
 "nbformat_minor": 2
}
